{
 "cells": [
  {
   "cell_type": "markdown",
   "metadata": {},
   "source": [
    "# Computational thinking"
   ]
  },
  {
   "cell_type": "markdown",
   "metadata": {},
   "source": [
    "## 1. Optimization algorithms. The knapstack problem"
   ]
  },
  {
   "cell_type": "markdown",
   "metadata": {},
   "source": [
    "Exercise 1. "
   ]
  },
  {
   "cell_type": "code",
   "execution_count": 8,
   "metadata": {
    "collapsed": true
   },
   "outputs": [],
   "source": [
    "import numpy as np\n",
    "import random"
   ]
  },
  {
   "cell_type": "code",
   "execution_count": 9,
   "metadata": {
    "collapsed": true
   },
   "outputs": [],
   "source": [
    "class Item(object):\n",
    "    def __init__(self, n, v, w):\n",
    "        self.name = n\n",
    "        self.value = float(v)\n",
    "        self.weight = float(w)\n",
    "    def getName(self):\n",
    "        return self.name\n",
    "    def getValue(self):\n",
    "        return self.value\n",
    "    def getWeight(self):\n",
    "        return self.weight\n",
    "    def __str__(self):\n",
    "        return '<' + self.name + ', ' + str(self.value) + ', '\\\n",
    "                     + str(self.weight) + '>'\n",
    "\n"
   ]
  },
  {
   "cell_type": "code",
   "execution_count": 10,
   "metadata": {},
   "outputs": [],
   "source": [
    "def buildItems():\n",
    "    return [Item(n,v,w) for n,v,w in (('clock', 175, 10),\n",
    "                                      ('painting', 90, 9),\n",
    "                                      ('radio', 20, 4),\n",
    "                                      ('vase', 50, 2),\n",
    "                                      ('book', 10, 1),\n",
    "                                      ('computer', 200, 20))]"
   ]
  },
  {
   "cell_type": "code",
   "execution_count": 11,
   "metadata": {
    "collapsed": true
   },
   "outputs": [],
   "source": [
    "def buildRandomItems(n):\n",
    "    return [Item(str(i),10*random.randint(1,10),random.randint(1,10))\n",
    "            for i in range(n)]"
   ]
  },
  {
   "cell_type": "code",
   "execution_count": 77,
   "metadata": {},
   "outputs": [],
   "source": [
    "def powerSet(items):\n",
    "    N = len(items)\n",
    "    print(N)\n",
    "    # enumerate the 2**N possible combinations\n",
    "    for i in range(2**N):\n",
    "        combo = []\n",
    "        for j in range(N):\n",
    "            # test bit jth of integer i\n",
    "            print(i,j,(i >> j) %2)\n",
    "            if (i >> j) % 2 == 1:\n",
    "                combo.append(items[j])\n",
    "            print(j)\n",
    "            print(list(combo))\n",
    "        yield combo"
   ]
  },
  {
   "cell_type": "code",
   "execution_count": 81,
   "metadata": {},
   "outputs": [
    {
     "data": {
      "text/plain": [
       "1"
      ]
     },
     "execution_count": 81,
     "metadata": {},
     "output_type": "execute_result"
    }
   ],
   "source": [
    "1>>0"
   ]
  },
  {
   "cell_type": "code",
   "execution_count": 79,
   "metadata": {},
   "outputs": [],
   "source": [
    "knapsack = ['dog','clock','person']"
   ]
  },
  {
   "cell_type": "code",
   "execution_count": 80,
   "metadata": {},
   "outputs": [
    {
     "name": "stdout",
     "output_type": "stream",
     "text": [
      "3\n",
      "0 0 0\n",
      "0\n",
      "[]\n",
      "0 1 0\n",
      "1\n",
      "[]\n",
      "0 2 0\n",
      "2\n",
      "[]\n",
      "1 0 1\n",
      "0\n",
      "['dog']\n",
      "1 1 0\n",
      "1\n",
      "['dog']\n",
      "1 2 0\n",
      "2\n",
      "['dog']\n",
      "2 0 0\n",
      "0\n",
      "[]\n",
      "2 1 1\n",
      "1\n",
      "['clock']\n",
      "2 2 0\n",
      "2\n",
      "['clock']\n",
      "3 0 1\n",
      "0\n",
      "['dog']\n",
      "3 1 1\n",
      "1\n",
      "['dog', 'clock']\n",
      "3 2 0\n",
      "2\n",
      "['dog', 'clock']\n",
      "4 0 0\n",
      "0\n",
      "[]\n",
      "4 1 0\n",
      "1\n",
      "[]\n",
      "4 2 1\n",
      "2\n",
      "['person']\n",
      "5 0 1\n",
      "0\n",
      "['dog']\n",
      "5 1 0\n",
      "1\n",
      "['dog']\n",
      "5 2 1\n",
      "2\n",
      "['dog', 'person']\n",
      "6 0 0\n",
      "0\n",
      "[]\n",
      "6 1 1\n",
      "1\n",
      "['clock']\n",
      "6 2 1\n",
      "2\n",
      "['clock', 'person']\n",
      "7 0 1\n",
      "0\n",
      "['dog']\n",
      "7 1 1\n",
      "1\n",
      "['dog', 'clock']\n",
      "7 2 1\n",
      "2\n",
      "['dog', 'clock', 'person']\n"
     ]
    },
    {
     "data": {
      "text/plain": [
       "[[],\n",
       " ['dog'],\n",
       " ['clock'],\n",
       " ['dog', 'clock'],\n",
       " ['person'],\n",
       " ['dog', 'person'],\n",
       " ['clock', 'person'],\n",
       " ['dog', 'clock', 'person']]"
      ]
     },
     "execution_count": 80,
     "metadata": {},
     "output_type": "execute_result"
    }
   ],
   "source": [
    "list(powerSet(knapsack))"
   ]
  },
  {
   "cell_type": "code",
   "execution_count": null,
   "metadata": {
    "collapsed": true
   },
   "outputs": [],
   "source": [
    "def yieldAllCombos(items):\n",
    "    \"\"\"\n",
    "        Generates all combinations of N items into two bags, whereby each \n",
    "        item is in one or zero bags.\n",
    "\n",
    "        Yields a tuple, (bag1, bag2), where each bag is represented as a list \n",
    "        of which item(s) are in each bag.\n",
    "    \"\"\"\n",
    "    # Your code here\n",
    "    N = len(items)\n",
    "    for i in range(2**N):\n",
    "        bag1=[]\n",
    "        bag2=[]\n",
    "        for j in range(N):\n",
    "            if(i>>j) % 2 == 1:\n",
    "                bag1.append(items[j])\n",
    "            "
   ]
  },
  {
   "cell_type": "code",
   "execution_count": null,
   "metadata": {
    "collapsed": true
   },
   "outputs": [],
   "source": [
    "def powerSet(items):\n",
    "    N = len(items)\n",
    "    print(N)\n",
    "    # enumerate the 2**N possible combinations\n",
    "    for i in range(2**N):\n",
    "        combo = []\n",
    "        for j in range(N):\n",
    "            # test bit jth of integer i\n",
    "            print(i,j,(i >> j) %2)\n",
    "            if (i >> j) % 2 == 1:\n",
    "                combo.append(items[j])\n",
    "            print(j)\n",
    "            print(list(combo))\n",
    "        yield combo"
   ]
  },
  {
   "cell_type": "code",
   "execution_count": null,
   "metadata": {
    "collapsed": true
   },
   "outputs": [],
   "source": []
  },
  {
   "cell_type": "code",
   "execution_count": null,
   "metadata": {
    "collapsed": true
   },
   "outputs": [],
   "source": []
  },
  {
   "cell_type": "code",
   "execution_count": null,
   "metadata": {
    "collapsed": true
   },
   "outputs": [],
   "source": []
  },
  {
   "cell_type": "code",
   "execution_count": null,
   "metadata": {
    "collapsed": true
   },
   "outputs": [],
   "source": []
  },
  {
   "cell_type": "code",
   "execution_count": null,
   "metadata": {
    "collapsed": true
   },
   "outputs": [],
   "source": []
  },
  {
   "cell_type": "code",
   "execution_count": null,
   "metadata": {
    "collapsed": true
   },
   "outputs": [],
   "source": []
  },
  {
   "cell_type": "code",
   "execution_count": null,
   "metadata": {
    "collapsed": true
   },
   "outputs": [],
   "source": []
  },
  {
   "cell_type": "code",
   "execution_count": null,
   "metadata": {
    "collapsed": true
   },
   "outputs": [],
   "source": []
  },
  {
   "cell_type": "code",
   "execution_count": null,
   "metadata": {
    "collapsed": true
   },
   "outputs": [],
   "source": []
  },
  {
   "cell_type": "code",
   "execution_count": null,
   "metadata": {
    "collapsed": true
   },
   "outputs": [],
   "source": []
  }
 ],
 "metadata": {
  "kernelspec": {
   "display_name": "Python 3",
   "language": "python",
   "name": "python3"
  },
  "language_info": {
   "codemirror_mode": {
    "name": "ipython",
    "version": 3
   },
   "file_extension": ".py",
   "mimetype": "text/x-python",
   "name": "python",
   "nbconvert_exporter": "python",
   "pygments_lexer": "ipython3",
   "version": "3.6.2"
  }
 },
 "nbformat": 4,
 "nbformat_minor": 2
}
